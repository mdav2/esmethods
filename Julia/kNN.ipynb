{
 "cells": [
  {
   "cell_type": "code",
   "execution_count": 17,
   "metadata": {},
   "outputs": [
    {
     "name": "stderr",
     "output_type": "stream",
     "text": [
      "┌ Info: Recompiling stale cache file /home/mmd01986/.julia/compiled/v1.2/BenchmarkTools/ZXPQo.ji for BenchmarkTools [6e4b80f9-dd63-53aa-95a3-0cdb28fa8baf]\n",
      "└ @ Base loading.jl:1240\n"
     ]
    }
   ],
   "source": [
    "using LinearAlgebra\n",
    "using BenchmarkTools"
   ]
  },
  {
   "cell_type": "code",
   "execution_count": 25,
   "metadata": {},
   "outputs": [
    {
     "data": {
      "text/plain": [
       "10×1000000 Array{Float64,2}:\n",
       " -0.295673   1.22236    0.934523   …   1.79375   -2.32563     0.287427 \n",
       "  0.239278   0.868889   0.0838325     -1.49217   -1.14612    -0.0372303\n",
       " -0.630892  -0.319768   0.337727      -0.594143  -0.237067    0.363885 \n",
       "  1.40349   -0.504801  -0.154658      -0.786917  -1.20117    -1.14204  \n",
       " -0.15017    1.10488   -0.961365       0.909774   0.0760339   1.00522  \n",
       " -1.28179    0.398667   0.634293   …   0.297485   0.437006    0.313701 \n",
       "  0.627154   1.42877    0.0573682      0.923809  -0.53312     1.69552  \n",
       " -0.708173  -1.19009    1.14592       -0.157915  -0.279562   -0.625384 \n",
       " -1.92342   -1.87248    0.498211       1.02163   -0.229739   -1.59672  \n",
       " -2.11051   -1.56863   -0.970939      -0.182228   1.07838    -0.343211 "
      ]
     },
     "execution_count": 25,
     "metadata": {},
     "output_type": "execute_result"
    }
   ],
   "source": [
    "train = randn(10,1000000)"
   ]
  },
  {
   "cell_type": "code",
   "execution_count": 26,
   "metadata": {},
   "outputs": [
    {
     "data": {
      "text/plain": [
       "10-element Array{Float64,1}:\n",
       " -1.7170617698351522  \n",
       " -0.30628859908045225 \n",
       " -0.9587473752838165  \n",
       " -0.7190085394808374  \n",
       " -1.7753729970369256  \n",
       "  0.024847535569599757\n",
       " -0.9263022986440786  \n",
       " -1.2000461815638541  \n",
       " -0.7776043779051018  \n",
       "  1.8818117785339128  "
      ]
     },
     "execution_count": 26,
     "metadata": {},
     "output_type": "execute_result"
    }
   ],
   "source": [
    "sample = randn(10)"
   ]
  },
  {
   "cell_type": "code",
   "execution_count": 29,
   "metadata": {},
   "outputs": [
    {
     "data": {
      "text/plain": [
       "nearest (generic function with 1 method)"
      ]
     },
     "execution_count": 29,
     "metadata": {},
     "output_type": "execute_result"
    }
   ],
   "source": [
    "function nearest(sample,train)\n",
    "    best = zeros(size(train)[1])\n",
    "    bestd = BLAS.nrm2(sample - best)\n",
    "    for i in collect(UnitRange(1,size(train)[2]))\n",
    "        @views dist = BLAS.nrm2(sample .- train[:,i])\n",
    "        if dist < bestd\n",
    "            bestd = dist\n",
    "            best[:] .= train[:,i]\n",
    "        end\n",
    "    end\n",
    "    return best,bestd\n",
    "end"
   ]
  },
  {
   "cell_type": "code",
   "execution_count": 30,
   "metadata": {},
   "outputs": [
    {
     "data": {
      "text/plain": [
       "BenchmarkTools.Trial: \n",
       "  memory estimate:  206.00 MiB\n",
       "  allocs estimate:  2000036\n",
       "  --------------\n",
       "  minimum time:     42.080 ms (13.05% GC)\n",
       "  median time:      43.288 ms (14.56% GC)\n",
       "  mean time:        50.697 ms (24.98% GC)\n",
       "  maximum time:     92.938 ms (53.48% GC)\n",
       "  --------------\n",
       "  samples:          100\n",
       "  evals/sample:     1"
      ]
     },
     "execution_count": 30,
     "metadata": {},
     "output_type": "execute_result"
    }
   ],
   "source": [
    "@benchmark nearest(sample,train)"
   ]
  },
  {
   "cell_type": "code",
   "execution_count": null,
   "metadata": {},
   "outputs": [],
   "source": []
  }
 ],
 "metadata": {
  "kernelspec": {
   "display_name": "Julia 1.2.0",
   "language": "julia",
   "name": "julia-1.2"
  },
  "language_info": {
   "file_extension": ".jl",
   "mimetype": "application/julia",
   "name": "julia",
   "version": "1.2.0"
  }
 },
 "nbformat": 4,
 "nbformat_minor": 2
}
