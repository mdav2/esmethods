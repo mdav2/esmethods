{
 "cells": [
  {
   "cell_type": "code",
   "execution_count": 259,
   "metadata": {},
   "outputs": [],
   "source": [
    "using BenchmarkTools\n",
    "using Mmap"
   ]
  },
  {
   "cell_type": "code",
   "execution_count": 109,
   "metadata": {},
   "outputs": [
    {
     "data": {
      "text/plain": [
       "todisk (generic function with 1 method)"
      ]
     },
     "execution_count": 109,
     "metadata": {},
     "output_type": "execute_result"
    }
   ],
   "source": [
    "function todisk(fname::String,arr::Array)\n",
    "    temp = reshape(arr,1,:)\n",
    "    open(fname,\"w\") do io\n",
    "        write(io,temp)\n",
    "    end\n",
    "end"
   ]
  },
  {
   "cell_type": "code",
   "execution_count": 133,
   "metadata": {},
   "outputs": [
    {
     "data": {
      "text/plain": [
       "fromdisk (generic function with 2 methods)"
      ]
     },
     "execution_count": 133,
     "metadata": {},
     "output_type": "execute_result"
    }
   ],
   "source": [
    "function fromdisk(fname,d1,d2,ex)\n",
    "    dt = eltype(ex)\n",
    "    load = open(read,fname)\n",
    "    out = reinterpret(dt,load)\n",
    "    return convert(Array{dt},out)\n",
    "end"
   ]
  },
  {
   "cell_type": "code",
   "execution_count": 136,
   "metadata": {},
   "outputs": [
    {
     "data": {
      "text/plain": [
       "roundtrip (generic function with 1 method)"
      ]
     },
     "execution_count": 136,
     "metadata": {},
     "output_type": "execute_result"
    }
   ],
   "source": [
    "function roundtrip(fname::String,array)\n",
    "    d1 = size(array)[1]\n",
    "    d2 = size(array)[2]\n",
    "    todisk(fname,array)\n",
    "    return fromdisk(fname,d1,d2,array[1])\n",
    "end"
   ]
  },
  {
   "cell_type": "code",
   "execution_count": 252,
   "metadata": {},
   "outputs": [
    {
     "data": {
      "text/plain": [
       "40000000"
      ]
     },
     "execution_count": 252,
     "metadata": {},
     "output_type": "execute_result"
    }
   ],
   "source": [
    "a = randn(Float32,10000000)\n",
    "b = randn(Float32,10000000)\n",
    "\n",
    "todisk(\"A\",a)\n",
    "\n",
    "todisk(\"B\",b)"
   ]
  },
  {
   "cell_type": "code",
   "execution_count": 253,
   "metadata": {},
   "outputs": [
    {
     "data": {
      "text/plain": [
       "mydot (generic function with 2 methods)"
      ]
     },
     "execution_count": 253,
     "metadata": {},
     "output_type": "execute_result"
    }
   ],
   "source": [
    "function mydot(a1::String,a2::String,bufsize::Int,ex)\n",
    "    \"Implementation of disk based dot product using fixed buffers\"\n",
    "    dt = typeof(ex)\n",
    "    bytes = sizeof(dt)\n",
    "    print(bytes)\n",
    "    sum = 0.0\n",
    "    buf1 = zeros(dt,bufsize)\n",
    "    buf2 = zeros(dt,bufsize)\n",
    "    io1 = open(a1,\"r\")\n",
    "    io2 = open(a2,\"r\")\n",
    "    seekend(io1)\n",
    "    seekend(io2)\n",
    "    len1 = position(io1)\n",
    "    len2 = position(io2)\n",
    "    seekstart(io1)\n",
    "    seekstart(io2)\n",
    "    steps = floor(Int,len1/(bufsize*bytes))\n",
    "    for i in collect(UnitRange(1,steps))\n",
    "        buf1[:] = convert(Array{dt},reinterpret(dt,read(io1,bytes*bufsize)))\n",
    "        buf2[:] = convert(Array{dt},reinterpret(dt,read(io2,bytes*bufsize)))\n",
    "        for j in collect(UnitRange(1,bufsize))\n",
    "            sum += buf1[j]*buf2[j]\n",
    "        end\n",
    "    end\n",
    "    close(io1)\n",
    "    close(io2)\n",
    "    return sum\n",
    "end"
   ]
  },
  {
   "cell_type": "code",
   "execution_count": 254,
   "metadata": {},
   "outputs": [
    {
     "name": "stdout",
     "output_type": "stream",
     "text": [
      "4"
     ]
    },
    {
     "data": {
      "text/plain": [
       "-5086.647221928334"
      ]
     },
     "execution_count": 254,
     "metadata": {},
     "output_type": "execute_result"
    }
   ],
   "source": [
    "mydot(\"A\",\"B\",10000,convert(Float32,1.0))"
   ]
  },
  {
   "cell_type": "code",
   "execution_count": null,
   "metadata": {},
   "outputs": [],
   "source": []
  },
  {
   "cell_type": "code",
   "execution_count": null,
   "metadata": {},
   "outputs": [],
   "source": []
  },
  {
   "cell_type": "code",
   "execution_count": 255,
   "metadata": {},
   "outputs": [
    {
     "data": {
      "text/plain": [
       "-5086.6953f0"
      ]
     },
     "execution_count": 255,
     "metadata": {},
     "output_type": "execute_result"
    }
   ],
   "source": [
    "dot(a,b)"
   ]
  },
  {
   "cell_type": "code",
   "execution_count": 278,
   "metadata": {},
   "outputs": [
    {
     "data": {
      "text/plain": [
       "BenchmarkTools.Trial: \n",
       "  memory estimate:  191.17 MiB\n",
       "  allocs estimate:  6019\n",
       "  --------------\n",
       "  minimum time:     30.369 ms (11.44% GC)\n",
       "  median time:      30.940 ms (12.95% GC)\n",
       "  mean time:        31.253 ms (12.96% GC)\n",
       "  maximum time:     40.665 ms (16.20% GC)\n",
       "  --------------\n",
       "  samples:          160\n",
       "  evals/sample:     1"
      ]
     },
     "execution_count": 278,
     "metadata": {},
     "output_type": "execute_result"
    }
   ],
   "source": [
    "@benchmark mydot(\"A\",\"B\",10000)"
   ]
  },
  {
   "cell_type": "code",
   "execution_count": 279,
   "metadata": {},
   "outputs": [
    {
     "data": {
      "text/plain": [
       "BenchmarkTools.Trial: \n",
       "  memory estimate:  16 bytes\n",
       "  allocs estimate:  1\n",
       "  --------------\n",
       "  minimum time:     2.858 ms (0.00% GC)\n",
       "  median time:      2.952 ms (0.00% GC)\n",
       "  mean time:        3.018 ms (0.00% GC)\n",
       "  maximum time:     6.025 ms (0.00% GC)\n",
       "  --------------\n",
       "  samples:          1654\n",
       "  evals/sample:     1"
      ]
     },
     "execution_count": 279,
     "metadata": {},
     "output_type": "execute_result"
    }
   ],
   "source": [
    "@benchmark dot(a,b)"
   ]
  },
  {
   "cell_type": "code",
   "execution_count": 256,
   "metadata": {},
   "outputs": [
    {
     "data": {
      "text/plain": [
       "100×102 Array{Float64,2}:\n",
       " -1.13103    -0.63955    0.576073   0.877694   …   0.452681     -1.73208   \n",
       " -0.912902    0.519288  -0.262308   0.0929026      1.11514      -0.751076  \n",
       " -0.255074    0.074724  -1.30985   -0.776638       1.31479       0.231601  \n",
       " -1.2808     -1.35968   -0.725662  -0.699938      -0.464256      0.711422  \n",
       "  0.113623   -0.4986     0.349596  -0.515931      -0.0699194     0.386732  \n",
       " -1.62416     0.604924   1.74733   -1.35256    …  -1.08527       0.327488  \n",
       "  0.276763    0.974647   0.887323  -0.181051       1.82202      -1.97294   \n",
       " -0.355001   -0.657703  -0.185762  -0.159571      -0.941186     -0.587083  \n",
       "  0.602469    2.17951   -0.601548   1.01991        0.567288     -0.187882  \n",
       " -1.45535     0.214453  -0.482803  -3.16234        0.53201      -0.014058  \n",
       "  0.215323    0.821513  -0.20291   -0.262372   …  -2.65003       1.46019   \n",
       " -0.0265786  -1.08371    1.83358    2.11669        1.47607       0.0837261 \n",
       " -0.61286    -0.452371   0.319428  -0.336284       0.178866      0.0764744 \n",
       "  ⋮                                            ⋱   ⋮                       \n",
       " -1.82571    -1.579      1.2661     1.26768       -1.10151       0.482452  \n",
       "  0.180611    2.45901   -0.526742   0.551322       0.427274     -0.441366  \n",
       "  0.395294    0.56695   -0.29089   -0.630588   …   0.80413       0.436056  \n",
       "  1.08458    -0.666328  -0.466401   0.371346       0.606929     -1.2342    \n",
       "  0.0673539  -0.530969   0.499628  -0.275086       2.63662       1.11428   \n",
       "  0.885505   -0.28113   -0.307307  -1.28787        1.24411      -1.25272   \n",
       " -0.814203    0.474933   0.238771  -0.221867       0.000576206  -1.74606   \n",
       "  0.996292   -0.282852   0.674801   0.589634   …  -0.316367     -0.734721  \n",
       " -1.35662     0.809103   0.351441   0.257889      -0.522515     -0.00998984\n",
       " -0.84334     0.550957  -0.929253  -0.16094       -0.945196      1.43972   \n",
       " -0.455398    0.802276  -0.847897   0.959345       1.19841      -1.22666   \n",
       "  0.522208   -0.650975  -0.120555  -0.196697       0.155313     -0.279522  "
      ]
     },
     "execution_count": 256,
     "metadata": {},
     "output_type": "execute_result"
    }
   ],
   "source": [
    "A = randn(100,102)"
   ]
  },
  {
   "cell_type": "code",
   "execution_count": 257,
   "metadata": {},
   "outputs": [],
   "source": [
    "\n",
    "s = open(\"/tmp/mmap.bin\",\"w+\")\n",
    "write(s,size(A,1))\n",
    "write(s,size(A,2))\n",
    "write(s,A)\n",
    "close(s)"
   ]
  },
  {
   "cell_type": "code",
   "execution_count": 263,
   "metadata": {},
   "outputs": [],
   "source": [
    "s = open(\"/tmp/mmap.bin\")\n",
    "m = read(s,Int)\n",
    "n = read(s,Int)\n",
    "A2 = Mmap.mmap(s,Matrix{Float64},(m,n))\n",
    "\n",
    "close(s)"
   ]
  },
  {
   "cell_type": "code",
   "execution_count": 272,
   "metadata": {},
   "outputs": [],
   "source": [
    "j = open(\"/tmp/b.bin\",\"w+\")\n",
    "write(j,size(b,1))\n",
    "write(j,b)\n",
    "close(j)"
   ]
  },
  {
   "cell_type": "code",
   "execution_count": 265,
   "metadata": {},
   "outputs": [],
   "source": [
    "k = open(\"/tmp/a.bin\",\"w+\")\n",
    "write(k,size(a,1))\n",
    "write(k,a)\n",
    "close(k)"
   ]
  },
  {
   "cell_type": "code",
   "execution_count": 270,
   "metadata": {},
   "outputs": [],
   "source": [
    "close(j)"
   ]
  },
  {
   "cell_type": "code",
   "execution_count": 275,
   "metadata": {},
   "outputs": [
    {
     "data": {
      "text/plain": [
       "10000000-element Array{Float32,1}:\n",
       " -0.054233607\n",
       " -0.9499914  \n",
       "  0.6584976  \n",
       "  0.20736992 \n",
       " -0.025722919\n",
       " -0.3679929  \n",
       "  0.15126811 \n",
       "  1.4166478  \n",
       " -0.7332895  \n",
       " -0.48933688 \n",
       "  0.46667036 \n",
       " -0.6293265  \n",
       "  0.9716014  \n",
       "  ⋮          \n",
       "  1.9068085  \n",
       "  0.52789885 \n",
       " -0.21519543 \n",
       "  3.3688467  \n",
       "  1.2195475  \n",
       "  1.6440344  \n",
       "  1.2348168  \n",
       "  1.5600194  \n",
       "  1.1300931  \n",
       " -0.54702646 \n",
       " -2.0609894  \n",
       " -2.8397446  "
      ]
     },
     "execution_count": 275,
     "metadata": {},
     "output_type": "execute_result"
    }
   ],
   "source": [
    "j = open(\"/tmp/b.bin\",\"r\")\n",
    "m = read(j, Int)\n",
    "aa = Mmap.mmap(j,Array{Float32,1},(m))"
   ]
  },
  {
   "cell_type": "code",
   "execution_count": 276,
   "metadata": {},
   "outputs": [
    {
     "data": {
      "text/plain": [
       "10000000-element Array{Float32,1}:\n",
       " -0.74406934\n",
       "  0.8486048 \n",
       "  0.42535952\n",
       " -0.9300928 \n",
       " -1.5610851 \n",
       "  0.5714895 \n",
       "  0.53098154\n",
       "  0.06357608\n",
       " -0.9778362 \n",
       "  1.7052861 \n",
       "  0.4992941 \n",
       " -2.2918475 \n",
       " -1.389691  \n",
       "  ⋮         \n",
       "  0.13229272\n",
       "  0.11427516\n",
       "  0.18035567\n",
       "  0.47115222\n",
       " -0.3229812 \n",
       " -2.9791162 \n",
       " -0.8643453 \n",
       "  0.67145944\n",
       " -1.9363497 \n",
       " -0.99873394\n",
       " -1.4255662 \n",
       "  0.80592686"
      ]
     },
     "execution_count": 276,
     "metadata": {},
     "output_type": "execute_result"
    }
   ],
   "source": [
    "k = open(\"/tmp/a.bin\",\"r\")\n",
    "n = read(k,Int)\n",
    "bb = Mmap.mmap(k,Array{Float32,1},n)"
   ]
  },
  {
   "cell_type": "code",
   "execution_count": 277,
   "metadata": {},
   "outputs": [
    {
     "data": {
      "text/plain": [
       "BenchmarkTools.Trial: \n",
       "  memory estimate:  16 bytes\n",
       "  allocs estimate:  1\n",
       "  --------------\n",
       "  minimum time:     2.879 ms (0.00% GC)\n",
       "  median time:      2.955 ms (0.00% GC)\n",
       "  mean time:        3.030 ms (0.00% GC)\n",
       "  maximum time:     5.800 ms (0.00% GC)\n",
       "  --------------\n",
       "  samples:          1647\n",
       "  evals/sample:     1"
      ]
     },
     "execution_count": 277,
     "metadata": {},
     "output_type": "execute_result"
    }
   ],
   "source": [
    "\n",
    "@benchmark dot(aa,bb)"
   ]
  },
  {
   "cell_type": "code",
   "execution_count": 280,
   "metadata": {},
   "outputs": [
    {
     "data": {
      "text/plain": [
       "-5086.6953f0"
      ]
     },
     "execution_count": 280,
     "metadata": {},
     "output_type": "execute_result"
    }
   ],
   "source": [
    "dot(aa,bb)"
   ]
  },
  {
   "cell_type": "code",
   "execution_count": null,
   "metadata": {},
   "outputs": [],
   "source": []
  }
 ],
 "metadata": {
  "kernelspec": {
   "display_name": "Julia 1.2.0",
   "language": "julia",
   "name": "julia-1.2"
  },
  "language_info": {
   "file_extension": ".jl",
   "mimetype": "application/julia",
   "name": "julia",
   "version": "1.2.0"
  }
 },
 "nbformat": 4,
 "nbformat_minor": 2
}
