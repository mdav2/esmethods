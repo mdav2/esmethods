{
 "cells": [
  {
   "cell_type": "code",
   "execution_count": 1,
   "metadata": {},
   "outputs": [],
   "source": [
    "import numpy as np\n",
    "import time"
   ]
  },
  {
   "cell_type": "code",
   "execution_count": 2,
   "metadata": {},
   "outputs": [],
   "source": [
    "n = 1000"
   ]
  },
  {
   "cell_type": "code",
   "execution_count": 3,
   "metadata": {},
   "outputs": [],
   "source": [
    "sparsity = 0.000001\n",
    "A = np.zeros((n,n))\n",
    "for i in range(n):\n",
    "    A[i,i] = i + 1\n",
    "A = A + sparsity*np.random.randn(n,n)\n",
    "A = (A.T + A)/2"
   ]
  },
  {
   "cell_type": "code",
   "execution_count": 4,
   "metadata": {},
   "outputs": [],
   "source": [
    "eigs = 2 #we want to eigenvectors\n",
    "k = 4 #number of guess vectors\n",
    "t = np.eye(n,k) #to draw initial vectors from\n",
    "V = np.zeros((n,n)) # storage of guess vectors"
   ]
  },
  {
   "cell_type": "code",
   "execution_count": 5,
   "metadata": {},
   "outputs": [],
   "source": [
    "kmax = 20"
   ]
  },
  {
   "cell_type": "code",
   "execution_count": 6,
   "metadata": {},
   "outputs": [],
   "source": [
    "tol = 1E-14"
   ]
  },
  {
   "cell_type": "code",
   "execution_count": 7,
   "metadata": {},
   "outputs": [],
   "source": [
    "I = np.eye(n)"
   ]
  },
  {
   "cell_type": "code",
   "execution_count": 10,
   "metadata": {},
   "outputs": [
    {
     "name": "stdout",
     "output_type": "stream",
     "text": [
      "<class 'numpy.ndarray'>\n",
      "<class 'numpy.ndarray'>\n",
      "<class 'numpy.ndarray'>\n",
      "<class 'numpy.ndarray'>\n",
      "(5,)\n",
      "(1000, 5)\n",
      "(1000,)\n",
      "(5,)\n",
      "(1000, 5)\n",
      "(1000,)\n",
      "(5,)\n",
      "(1000, 5)\n",
      "(1000,)\n",
      "(5,)\n",
      "(1000, 5)\n",
      "(1000,)\n",
      "(9,)\n",
      "(1000, 9)\n",
      "(1000,)\n",
      "(9,)\n",
      "(1000, 9)\n",
      "(1000,)\n",
      "(9,)\n",
      "(1000, 9)\n",
      "(1000,)\n",
      "(9,)\n",
      "(1000, 9)\n",
      "(1000,)\n",
      "(13,)\n",
      "(1000, 13)\n",
      "(1000,)\n",
      "(13,)\n",
      "(1000, 13)\n",
      "(1000,)\n",
      "(13,)\n",
      "(1000, 13)\n",
      "(1000,)\n",
      "(13,)\n",
      "(1000, 13)\n",
      "(1000,)\n",
      "(17,)\n",
      "(1000, 17)\n",
      "(1000,)\n",
      "(17,)\n",
      "(1000, 17)\n",
      "(1000,)\n",
      "(17,)\n",
      "(1000, 17)\n",
      "(1000,)\n",
      "(17,)\n",
      "(1000, 17)\n",
      "(1000,)\n",
      "0.2624678611755371\n"
     ]
    }
   ],
   "source": [
    "t1 = time.time()\n",
    "for m in range(k,kmax,k):\n",
    "    if m <= k:\n",
    "        l_old = 1\n",
    "        for j in range(k):\n",
    "            print(type(t))\n",
    "            V[:,j] = t[:,j]#/np.linalg.norm(t[:,j])\n",
    "                           # ^--- we don't need to do this, there is\n",
    "                           # a QR decomposition performed on V\n",
    "                           #below - - +\n",
    "    else:                  #          '\n",
    "        l_old = l[:eigs]   #          '\n",
    "                           #          '\n",
    "    V,R = np.linalg.qr(V)  #< - - - - +\n",
    "    T = np.dot(V[:,:(m+1)].T,np.dot(A,V[:,:(m+1)]))\n",
    "    L,E = np.linalg.eig(T)\n",
    "    idx = L.argsort()\n",
    "    l = L[idx]\n",
    "    e = E[:,idx]\n",
    " #   print(e.shape)\n",
    "\n",
    "    for j in range(k):\n",
    "        print(e[j].shape)\n",
    "        print(V[:,:(m+1)].shape)\n",
    "        #print((np.dot(V[:,:(m+1)],e[j])).shape)\n",
    "        w = np.dot(A - l[j]*I,np.dot(V[:,:(m+1)],e[j]))\n",
    "        q = w/(l[j] - A[j,j])\n",
    "        print(w.shape)\n",
    "        V[:,j+m+1] = q\n",
    "    norm = np.linalg.norm(l[:eigs] - l_old)\n",
    "    if norm < tol:\n",
    "        break\n",
    "print(time.time() - t1)"
   ]
  },
  {
   "cell_type": "code",
   "execution_count": 11,
   "metadata": {},
   "outputs": [
    {
     "data": {
      "text/plain": [
       "array([1.00000112, 2.00000033])"
      ]
     },
     "execution_count": 11,
     "metadata": {},
     "output_type": "execute_result"
    }
   ],
   "source": [
    "l[:eigs]"
   ]
  },
  {
   "cell_type": "code",
   "execution_count": null,
   "metadata": {},
   "outputs": [],
   "source": []
  }
 ],
 "metadata": {
  "kernelspec": {
   "display_name": "Python 3",
   "language": "python",
   "name": "python3"
  },
  "language_info": {
   "codemirror_mode": {
    "name": "ipython",
    "version": 3
   },
   "file_extension": ".py",
   "mimetype": "text/x-python",
   "name": "python",
   "nbconvert_exporter": "python",
   "pygments_lexer": "ipython3",
   "version": "3.7.4"
  }
 },
 "nbformat": 4,
 "nbformat_minor": 4
}
