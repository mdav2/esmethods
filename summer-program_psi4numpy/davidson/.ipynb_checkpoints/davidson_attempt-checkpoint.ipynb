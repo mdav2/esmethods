{
 "cells": [
  {
   "cell_type": "code",
   "execution_count": 61,
   "metadata": {},
   "outputs": [],
   "source": [
    "import numpy as np\n",
    "import time"
   ]
  },
  {
   "cell_type": "code",
   "execution_count": 63,
   "metadata": {},
   "outputs": [],
   "source": [
    "n = 1000"
   ]
  },
  {
   "cell_type": "code",
   "execution_count": 64,
   "metadata": {},
   "outputs": [],
   "source": [
    "sparsity = 0.000001\n",
    "A = np.zeros((n,n))\n",
    "for i in range(n):\n",
    "    A[i,i] = i + 1\n",
    "A = A + sparsity*np.random.randn(n,n)\n",
    "A = (A.T + A)/2"
   ]
  },
  {
   "cell_type": "code",
   "execution_count": 65,
   "metadata": {},
   "outputs": [],
   "source": [
    "eigs = 2 #we want to eigenvectors\n",
    "k = 4 #number of guess vectors\n",
    "t = np.eye(n,k) #to draw initial vectors from\n",
    "V = np.zeros((n,n)) # storage of guess vectors"
   ]
  },
  {
   "cell_type": "code",
   "execution_count": 66,
   "metadata": {},
   "outputs": [],
   "source": [
    "kmax = 20"
   ]
  },
  {
   "cell_type": "code",
   "execution_count": 67,
   "metadata": {},
   "outputs": [],
   "source": [
    "tol = 1E-14"
   ]
  },
  {
   "cell_type": "code",
   "execution_count": 68,
   "metadata": {},
   "outputs": [],
   "source": [
    "I = np.eye(n)"
   ]
  },
  {
   "cell_type": "code",
   "execution_count": 71,
   "metadata": {},
   "outputs": [
    {
     "name": "stdout",
     "output_type": "stream",
     "text": [
      "<class 'float'>\n"
     ]
    },
    {
     "ename": "TypeError",
     "evalue": "'float' object is not subscriptable",
     "output_type": "error",
     "traceback": [
      "\u001b[0;31m---------------------------------------------------------------------------\u001b[0m",
      "\u001b[0;31mTypeError\u001b[0m                                 Traceback (most recent call last)",
      "\u001b[0;32m<ipython-input-71-a1868100b6ae>\u001b[0m in \u001b[0;36m<module>\u001b[0;34m\u001b[0m\n\u001b[1;32m      5\u001b[0m         \u001b[0;32mfor\u001b[0m \u001b[0mj\u001b[0m \u001b[0;32min\u001b[0m \u001b[0mrange\u001b[0m\u001b[0;34m(\u001b[0m\u001b[0mk\u001b[0m\u001b[0;34m)\u001b[0m\u001b[0;34m:\u001b[0m\u001b[0;34m\u001b[0m\u001b[0;34m\u001b[0m\u001b[0m\n\u001b[1;32m      6\u001b[0m             \u001b[0mprint\u001b[0m\u001b[0;34m(\u001b[0m\u001b[0mtype\u001b[0m\u001b[0;34m(\u001b[0m\u001b[0mt\u001b[0m\u001b[0;34m)\u001b[0m\u001b[0;34m)\u001b[0m\u001b[0;34m\u001b[0m\u001b[0;34m\u001b[0m\u001b[0m\n\u001b[0;32m----> 7\u001b[0;31m             \u001b[0mV\u001b[0m\u001b[0;34m[\u001b[0m\u001b[0;34m:\u001b[0m\u001b[0;34m,\u001b[0m\u001b[0mj\u001b[0m\u001b[0;34m]\u001b[0m \u001b[0;34m=\u001b[0m \u001b[0mt\u001b[0m\u001b[0;34m[\u001b[0m\u001b[0;34m:\u001b[0m\u001b[0;34m,\u001b[0m\u001b[0mj\u001b[0m\u001b[0;34m]\u001b[0m\u001b[0;31m#/np.linalg.norm(t[:,j])\u001b[0m\u001b[0;34m\u001b[0m\u001b[0;34m\u001b[0m\u001b[0m\n\u001b[0m\u001b[1;32m      8\u001b[0m                            \u001b[0;31m# ^--- we don't need to do this, there is\u001b[0m\u001b[0;34m\u001b[0m\u001b[0;34m\u001b[0m\u001b[0;34m\u001b[0m\u001b[0m\n\u001b[1;32m      9\u001b[0m                            \u001b[0;31m# a QR decomposition performed on V\u001b[0m\u001b[0;34m\u001b[0m\u001b[0;34m\u001b[0m\u001b[0;34m\u001b[0m\u001b[0m\n",
      "\u001b[0;31mTypeError\u001b[0m: 'float' object is not subscriptable"
     ]
    }
   ],
   "source": [
    "t1 = time.time()\n",
    "for m in range(k,kmax,k):\n",
    "    if m <= k:\n",
    "        l_old = 1\n",
    "        for j in range(k):\n",
    "            print(type(t))\n",
    "            V[:,j] = t[:,j]#/np.linalg.norm(t[:,j])\n",
    "                           # ^--- we don't need to do this, there is\n",
    "                           # a QR decomposition performed on V\n",
    "                           #below - - +\n",
    "    else:                  #          '\n",
    "        l_old = l[:eigs]   #          '\n",
    "                           #          '\n",
    "    V,R = np.linalg.qr(V)  #< - - - - +\n",
    "    T = np.dot(V[:,:(m+1)].T,np.dot(A,V[:,:(m+1)]))\n",
    "    L,E = np.linalg.eig(T)\n",
    "    idx = L.argsort()\n",
    "    l = L[idx]\n",
    "    e = E[:,idx]\n",
    " #   print(e.shape)\n",
    "\n",
    "    for j in range(k):\n",
    "        print(e[j].shape)\n",
    "        print(V[:,:(m+1)].shape)\n",
    "        #print((np.dot(V[:,:(m+1)],e[j])).shape)\n",
    "        w = np.dot(A - l[j]*I,np.dot(V[:,:(m+1)],e[j]))\n",
    "        #q = w/(l[j] - A[j,j])\n",
    "       # print(w.shape)\n",
    "        V[:,j+m+1] = q\n",
    "    norm = np.linalg.norm(l[:eigs] - l_old)\n",
    "    if norm < tol:\n",
    "        break\n",
    "print(time.time() - t1)"
   ]
  },
  {
   "cell_type": "code",
   "execution_count": 42,
   "metadata": {},
   "outputs": [
    {
     "data": {
      "text/plain": [
       "array([1.00000101, 2.00000051])"
      ]
     },
     "execution_count": 42,
     "metadata": {},
     "output_type": "execute_result"
    }
   ],
   "source": [
    "l[:eigs]"
   ]
  },
  {
   "cell_type": "code",
   "execution_count": null,
   "metadata": {},
   "outputs": [],
   "source": []
  }
 ],
 "metadata": {
  "kernelspec": {
   "display_name": "Python 3",
   "language": "python",
   "name": "python3"
  },
  "language_info": {
   "codemirror_mode": {
    "name": "ipython",
    "version": 3
   },
   "file_extension": ".py",
   "mimetype": "text/x-python",
   "name": "python",
   "nbconvert_exporter": "python",
   "pygments_lexer": "ipython3",
   "version": "3.6.9"
  }
 },
 "nbformat": 4,
 "nbformat_minor": 4
}
