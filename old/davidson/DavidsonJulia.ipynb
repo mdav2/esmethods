{
 "cells": [
  {
   "cell_type": "code",
   "execution_count": 184,
   "metadata": {},
   "outputs": [],
   "source": [
    "using LinearAlgebra\n",
    "using Random\n",
    "using BenchmarkTools"
   ]
  },
  {
   "cell_type": "code",
   "execution_count": 185,
   "metadata": {},
   "outputs": [],
   "source": [
    "using Profile"
   ]
  },
  {
   "cell_type": "code",
   "execution_count": 186,
   "metadata": {},
   "outputs": [],
   "source": [
    "BLAS.set_num_threads(4)"
   ]
  },
  {
   "cell_type": "code",
   "execution_count": 264,
   "metadata": {},
   "outputs": [
    {
     "data": {
      "text/plain": [
       "1000×1000 Array{Float64,2}:\n",
       "  2.99998      7.31222e-6   7.3418e-6   …    -7.63709e-6    -1.08222e-5\n",
       "  7.31222e-6   3.99999      5.24218e-6       -8.25918e-6     7.46923e-6\n",
       "  7.3418e-6    5.24218e-6   5.0              -8.24968e-6     3.75013e-6\n",
       " -6.73735e-6  -7.63983e-6   8.38926e-7       -6.8078e-6     -1.62971e-5\n",
       "  1.66399e-6   1.37787e-6  -3.65414e-6       -2.09564e-6    -3.22815e-6\n",
       "  3.02799e-6  -9.43016e-7   1.71691e-6  …    -8.96559e-6    -2.19672e-5\n",
       " -4.95162e-7   2.16558e-6  -1.99302e-6       -5.66882e-6     5.86658e-6\n",
       "  5.10925e-6   3.74071e-6  -2.4605e-6         8.25016e-6     1.01304e-5\n",
       " -1.2784e-5    6.75764e-6   1.40454e-5       -4.36919e-6    -1.46886e-5\n",
       " -9.5689e-6    1.39804e-7   8.15817e-6       -5.57281e-6     5.80562e-6\n",
       " -9.46101e-6  -7.11159e-7  -9.04925e-6  …    -1.24865e-5     5.62901e-6\n",
       "  7.18062e-6   5.00137e-6   5.89097e-7        1.67443e-6    -5.42953e-6\n",
       "  6.21574e-7   3.53386e-6   7.04572e-6        1.4472e-6      3.57063e-6\n",
       "  ⋮                                     ⋱                              \n",
       "  7.26116e-6   8.82888e-6   8.18484e-6        1.10948e-6     7.12896e-6\n",
       " -1.59457e-6   6.67326e-6   6.35515e-6       -2.15605e-6    -5.25128e-6\n",
       "  8.3769e-6   -5.73574e-6   2.07839e-6  …    -5.13117e-6    -1.4155e-6 \n",
       " -1.88917e-6  -8.19814e-6   7.98906e-6       -1.09e-6       -3.06788e-6\n",
       " -3.38518e-6   8.20588e-6   7.17388e-6        1.15797e-5    -1.76849e-6\n",
       "  4.26614e-6   4.22514e-6   3.8034e-6        -4.5899e-6      6.85755e-6\n",
       "  4.51305e-6   5.83043e-6  -5.04871e-6        2.9708e-6      2.38812e-6\n",
       " -8.96783e-6   5.66913e-8   8.57373e-7  …     2.39091e-6    -8.11341e-7\n",
       "  1.9273e-6    4.86955e-6   1.05375e-6       -2.93559e-7     1.23759e-7\n",
       " -2.99248e-6   2.00742e-5   1.18431e-5       -1.16091e-5     8.13251e-6\n",
       " -7.63709e-6  -8.25918e-6  -8.24968e-6     1001.0           -6.42777e-6\n",
       " -1.08222e-5   7.46923e-6   3.75013e-6       -6.42777e-6  1002.0       "
      ]
     },
     "execution_count": 264,
     "metadata": {},
     "output_type": "execute_result"
    }
   ],
   "source": [
    "n = 1000\n",
    "\n",
    "sparsity = 0.00001\n",
    "\n",
    "A = zeros((n,n))\n",
    "B = randn((n,n))\n",
    "for i in 1:1:n\n",
    "    A[i,i] = i + 2\n",
    "    for j in 1:1:n\n",
    "        A[j,i] += sparsity*B[j,i]\n",
    "    end\n",
    "end\n",
    "A = 0.5*(transpose(A) + A)"
   ]
  },
  {
   "cell_type": "code",
   "execution_count": 279,
   "metadata": {},
   "outputs": [
    {
     "data": {
      "text/plain": [
       "eigdav (generic function with 2 methods)"
      ]
     },
     "execution_count": 279,
     "metadata": {},
     "output_type": "execute_result"
    }
   ],
   "source": [
    "function eigdav(A,eigs,k,kmax,tol)\n",
    "    #functioning, don't mess with\n",
    "    V = zeros((n,n))\n",
    "    t = I(n)\n",
    "    theta = 0\n",
    "    w = 0\n",
    "    theta_old = 0\n",
    "    for m in k:k:kmax\n",
    "        if m <= k\n",
    "            for j in 1:1:k\n",
    "                V[:,j] = t[:,j]/norm(t[:,j])\n",
    "            end\n",
    "            theta_old = ones(eigs)\n",
    "        else\n",
    "            theta_old = theta[1:eigs]\n",
    "        end\n",
    "        F = qr(V)\n",
    "        V = Matrix(F.Q)\n",
    "        T = transpose(V[:,1:(m+1)])*A*V[:,1:(m+1)]\n",
    "        THETA = eigvals(T)\n",
    "        S = eigvecs(T)\n",
    "        idx = sortperm(THETA)\n",
    "        theta = THETA[idx]\n",
    "        s = S[:,idx]\n",
    "        for j in 1:1:k\n",
    "            w = (A - theta[j]*I(n))*V[:,1:(m+1)]*s[:,j]\n",
    "            q = w/(theta[j] - A[j,j])\n",
    "            V[:,m+j+1] = q\n",
    "        normm = norm(theta[1:eigs] - theta_old)\n",
    "        if normm < tol\n",
    "            return theta[1:eigs]\n",
    "        end    \n",
    "        end\n",
    "        \n",
    "    end\n",
    "    return theta[1:eigs]\n",
    "end"
   ]
  },
  {
   "cell_type": "code",
   "execution_count": 280,
   "metadata": {},
   "outputs": [
    {
     "data": {
      "text/plain": [
       "BenchmarkTools.Trial: \n",
       "  memory estimate:  218.13 MiB\n",
       "  allocs estimate:  273\n",
       "  --------------\n",
       "  minimum time:     217.099 ms (3.90% GC)\n",
       "  median time:      222.394 ms (3.76% GC)\n",
       "  mean time:        245.300 ms (11.77% GC)\n",
       "  maximum time:     298.186 ms (20.99% GC)\n",
       "  --------------\n",
       "  samples:          21\n",
       "  evals/sample:     1"
      ]
     },
     "execution_count": 280,
     "metadata": {},
     "output_type": "execute_result"
    }
   ],
   "source": [
    "@benchmark eigdav(A,2,4,40,1E-10)"
   ]
  },
  {
   "cell_type": "code",
   "execution_count": null,
   "metadata": {},
   "outputs": [],
   "source": []
  }
 ],
 "metadata": {
  "kernelspec": {
   "display_name": "Julia 1.2.0",
   "language": "julia",
   "name": "julia-1.2"
  },
  "language_info": {
   "file_extension": ".jl",
   "mimetype": "application/julia",
   "name": "julia",
   "version": "1.2.0"
  }
 },
 "nbformat": 4,
 "nbformat_minor": 4
}
