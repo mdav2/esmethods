{
 "cells": [
  {
   "cell_type": "code",
   "execution_count": 55,
   "metadata": {},
   "outputs": [],
   "source": [
    "#refereence implementation of davidson algorithm\n",
    "#https://joshuagoings.com/2013/08/23/davidsons-method/"
   ]
  },
  {
   "cell_type": "code",
   "execution_count": 56,
   "metadata": {},
   "outputs": [],
   "source": [
    "import numpy as np\n",
    "import time"
   ]
  },
  {
   "cell_type": "code",
   "execution_count": 64,
   "metadata": {},
   "outputs": [],
   "source": [
    "n = 1000"
   ]
  },
  {
   "cell_type": "code",
   "execution_count": 65,
   "metadata": {},
   "outputs": [],
   "source": [
    "sparsity = 0.000001\n",
    "A = np.zeros((n,n))\n",
    "for i in range(n):\n",
    "    A[i,i] = i + 1\n",
    "A = A + sparsity*np.random.randn(n,n)\n",
    "A = (A.T + A)/2"
   ]
  },
  {
   "cell_type": "code",
   "execution_count": 66,
   "metadata": {},
   "outputs": [
    {
     "data": {
      "text/plain": [
       "0.9999995984881729"
      ]
     },
     "execution_count": 66,
     "metadata": {},
     "output_type": "execute_result"
    }
   ],
   "source": [
    "A[0,0]"
   ]
  },
  {
   "cell_type": "code",
   "execution_count": 83,
   "metadata": {},
   "outputs": [],
   "source": [
    "tol = 1E-10"
   ]
  },
  {
   "cell_type": "code",
   "execution_count": 69,
   "metadata": {},
   "outputs": [],
   "source": [
    "k = 4\n",
    "eig = 2\n",
    "t = np.eye(n,k)\n",
    "V = np.zeros((n,n))\n",
    "I = np.eye(n)"
   ]
  },
  {
   "cell_type": "code",
   "execution_count": 70,
   "metadata": {},
   "outputs": [
    {
     "data": {
      "text/plain": [
       "array([[1.],\n",
       "       [0.],\n",
       "       [0.],\n",
       "       [0.]])"
      ]
     },
     "execution_count": 70,
     "metadata": {},
     "output_type": "execute_result"
    }
   ],
   "source": [
    "np.eye(4,1)"
   ]
  },
  {
   "cell_type": "code",
   "execution_count": 79,
   "metadata": {},
   "outputs": [],
   "source": [
    "kmax = 40"
   ]
  },
  {
   "cell_type": "code",
   "execution_count": 84,
   "metadata": {},
   "outputs": [],
   "source": [
    "ts = []\n",
    "for i in range(5):\n",
    "    t1 = time.time()\n",
    "    for m in range(k,kmax,k):\n",
    "       # print(m)\n",
    "        if m <= k:\n",
    "            for j in range(0,k):\n",
    "                V[:,j] = t[:,j]/np.linalg.norm(t[:,j])\n",
    "            theta_old = 1\n",
    "        else:\n",
    "            theta_old = theta[:eig]\n",
    "        V,R = np.linalg.qr(V) #ensures vectors are orthonormal\n",
    "        T = np.dot(V[:,:(m+1)].T, np.dot(A,V[:,:(m+1)])) #T is the projection of A onto the space spanned by V\n",
    "       # print(T)\n",
    "        THETA,S = np.linalg.eig(T)\n",
    "       # print(THETA)\n",
    "        idx = THETA.argsort()\n",
    "        theta = THETA[idx] #sorted THETA\n",
    "        s = S[:,idx] #sorted S\n",
    "        for j in range(k):\n",
    "            w = np.dot((A - theta[j]*I), np.dot(V[:,:(m+1)],s[:,j])) #if theta was exact eigenvalue, w -> 0\n",
    "            q = w/(theta[j] - A[j,j]) #scaling by 1/(approx eig j - diag element j)\n",
    "           # print(w)\n",
    "            V[:,(m+j+1)] = q #add scaled q to trial vectors\n",
    "        norm = np.linalg.norm(theta[:eig] - theta_old)\n",
    "        if norm < tol:\n",
    "            print( theta[:2] )\n",
    "            break\n",
    "    ts.append(time.time() - t1)"
   ]
  },
  {
   "cell_type": "code",
   "execution_count": 85,
   "metadata": {},
   "outputs": [
    {
     "data": {
      "text/plain": [
       "[0.9287912845611572,\n",
       " 0.8626394271850586,\n",
       " 0.8946254253387451,\n",
       " 0.8309359550476074,\n",
       " 0.8941740989685059]"
      ]
     },
     "execution_count": 85,
     "metadata": {},
     "output_type": "execute_result"
    }
   ],
   "source": [
    "ts"
   ]
  },
  {
   "cell_type": "code",
   "execution_count": 48,
   "metadata": {},
   "outputs": [],
   "source": [
    "X = np.triu(A)"
   ]
  },
  {
   "cell_type": "code",
   "execution_count": 51,
   "metadata": {},
   "outputs": [
    {
     "data": {
      "text/plain": [
       "array([-2.10620939e-07, -1.39567495e-07,  3.00000088e+00,  0.00000000e+00,\n",
       "        0.00000000e+00])"
      ]
     },
     "execution_count": 51,
     "metadata": {},
     "output_type": "execute_result"
    }
   ],
   "source": [
    "X[:,2]"
   ]
  },
  {
   "cell_type": "code",
   "execution_count": 50,
   "metadata": {},
   "outputs": [
    {
     "data": {
      "text/plain": [
       "array([[ 1.00000009e+00,  2.08017562e-07, -2.10620939e-07],\n",
       "       [ 0.00000000e+00,  1.99999837e+00, -1.39567495e-07],\n",
       "       [ 0.00000000e+00,  0.00000000e+00,  3.00000088e+00],\n",
       "       [ 0.00000000e+00,  0.00000000e+00,  0.00000000e+00],\n",
       "       [ 0.00000000e+00,  0.00000000e+00,  0.00000000e+00]])"
      ]
     },
     "execution_count": 50,
     "metadata": {},
     "output_type": "execute_result"
    }
   ],
   "source": [
    "X[:,0:3]"
   ]
  },
  {
   "cell_type": "code",
   "execution_count": 16,
   "metadata": {},
   "outputs": [
    {
     "data": {
      "text/plain": [
       "6.733710694313049"
      ]
     },
     "execution_count": 16,
     "metadata": {},
     "output_type": "execute_result"
    }
   ],
   "source": [
    "np.mean(ts)"
   ]
  },
  {
   "cell_type": "code",
   "execution_count": 63,
   "metadata": {},
   "outputs": [
    {
     "data": {
      "text/plain": [
       "array([  1.        ,   1.99999987,   3.0000014 ,   4.00000026,\n",
       "         5.00000013,   5.99999934,   7.00000137,   8.00000094,\n",
       "         8.99999909, 470.83363624, 486.77957389, 495.88967838,\n",
       "       502.21886489, 518.87077446, 526.27381392, 540.54502216,\n",
       "       556.40414906])"
      ]
     },
     "execution_count": 63,
     "metadata": {},
     "output_type": "execute_result"
    }
   ],
   "source": [
    "theta"
   ]
  },
  {
   "cell_type": "code",
   "execution_count": 58,
   "metadata": {},
   "outputs": [
    {
     "data": {
      "text/plain": [
       "array([1.        , 1.99999987, 3.0000014 , 4.00000026])"
      ]
     },
     "execution_count": 58,
     "metadata": {},
     "output_type": "execute_result"
    }
   ],
   "source": [
    "theta[:eig]"
   ]
  },
  {
   "cell_type": "code",
   "execution_count": 59,
   "metadata": {},
   "outputs": [],
   "source": [
    "e,v = np.linalg.eig(A)"
   ]
  },
  {
   "cell_type": "code",
   "execution_count": 61,
   "metadata": {},
   "outputs": [
    {
     "data": {
      "text/plain": [
       "1.7774670624248756e-13"
      ]
     },
     "execution_count": 61,
     "metadata": {},
     "output_type": "execute_result"
    }
   ],
   "source": [
    "e[0] - theta[:eig][0]"
   ]
  },
  {
   "cell_type": "code",
   "execution_count": null,
   "metadata": {},
   "outputs": [],
   "source": []
  }
 ],
 "metadata": {
  "kernelspec": {
   "display_name": "Python 3",
   "language": "python",
   "name": "python3"
  },
  "language_info": {
   "codemirror_mode": {
    "name": "ipython",
    "version": 3
   },
   "file_extension": ".py",
   "mimetype": "text/x-python",
   "name": "python",
   "nbconvert_exporter": "python",
   "pygments_lexer": "ipython3",
   "version": "3.6.9"
  }
 },
 "nbformat": 4,
 "nbformat_minor": 4
}
