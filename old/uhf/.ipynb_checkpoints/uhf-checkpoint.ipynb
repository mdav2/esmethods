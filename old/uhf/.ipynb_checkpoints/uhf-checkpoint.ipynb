{
 "cells": [
  {
   "cell_type": "code",
   "execution_count": 269,
   "metadata": {},
   "outputs": [],
   "source": [
    "import psi4\n",
    "import numpy as np\n",
    "from scipy.linalg import fractional_matrix_power\n",
    "\n",
    "if __name__ == \"__main__\":\n",
    "    mol = psi4.geometry(\"\"\"\n",
    "    1 2\n",
    "    O\n",
    "    H 1 0.96\n",
    "    H 1 0.96 2 104.5\n",
    "    symmetry c1\"\"\")\n",
    "psi4.set_options({'basis':'sto-3g',\n",
    "                  'reference':'uhf',\n",
    "                  'scf_type':'pk'})\n",
    "\n",
    "wfn = psi4.core.Wavefunction.build(mol,psi4.core.get_global_option('BASIS'))\n",
    "mints = psi4.core.MintsHelper(wfn.basisset())\n",
    "Sb = np.asarray(mints.ao_overlap())\n",
    "Tb = np.asarray(mints.ao_kinetic())\n",
    "Vb = np.asarray(mints.ao_potential())\n",
    "Gb = mints.ao_eri()\n",
    "\n",
    "nocc = int( sum(mol.Z(A) for A in range(mol.natom())) - mol.molecular_charge() )"
   ]
  },
  {
   "cell_type": "code",
   "execution_count": 270,
   "metadata": {},
   "outputs": [],
   "source": [
    "Vnu = mol.nuclear_repulsion_energy()"
   ]
  },
  {
   "cell_type": "code",
   "execution_count": 271,
   "metadata": {},
   "outputs": [],
   "source": [
    "S = np.block([[Sb,np.zeros(Sb.shape)],\n",
    "         [np.zeros(Sb.shape),Sb]])\n",
    "\n",
    "T = np.block([[Tb,np.zeros(Tb.shape)],\n",
    "         [np.zeros(Tb.shape),Tb]])"
   ]
  },
  {
   "cell_type": "code",
   "execution_count": 272,
   "metadata": {},
   "outputs": [],
   "source": [
    "V = np.block([[Vb,np.zeros(Vb.shape)],\n",
    "         [np.zeros(Vb.shape),Vb]])"
   ]
  },
  {
   "cell_type": "code",
   "execution_count": 273,
   "metadata": {},
   "outputs": [],
   "source": [
    "def block_tei(A):\n",
    "    I = np.identity(2)\n",
    "    A = np.kron(I, A)\n",
    "    return np.kron(I, A.T)"
   ]
  },
  {
   "cell_type": "code",
   "execution_count": 274,
   "metadata": {},
   "outputs": [],
   "source": [
    "#I = np.identity(2)\n",
    "G = block_tei(Gb)\n",
    "\n",
    "X = fractional_matrix_power(S,-0.5)\n",
    "\n",
    "D = np.zeros(S.shape)\n",
    "\n",
    "H = T + V\n",
    "\n",
    "\n",
    "G = G.transpose((0,2,1,3)) - G.transpose(0,2,3,1)"
   ]
  },
  {
   "cell_type": "code",
   "execution_count": 278,
   "metadata": {},
   "outputs": [
    {
     "name": "stdout",
     "output_type": "stream",
     "text": [
      "-74.65667838499016\n",
      "-74.65668708631026\n",
      "-74.65669272051926\n",
      "-74.6566963336308\n",
      "-74.65669863709769\n",
      "-74.65670010031586\n",
      "-74.65670102768756\n",
      "-74.65670161461087\n",
      "-74.65670198573497\n",
      "-74.65670222027147\n",
      "-74.65670236843633\n",
      "-74.656702462016\n",
      "-74.65670252111128\n",
      "-74.65670255842647\n",
      "-74.6567025819874\n",
      "-74.65670259686321\n",
      "-74.65670260625527\n",
      "-74.656702612185\n",
      "-74.65670261592874\n",
      "-74.6567026182923\n",
      "-74.6567026197845\n",
      "-74.65670262072658\n",
      "-74.65670262132153\n",
      "-74.65670262169695\n",
      "-74.65670262193393\n",
      "-74.6567026220836\n",
      "-74.65670262217809\n",
      "-74.65670262223776\n",
      "-74.65670262227549\n",
      "-74.65670262229924\n",
      "-74.65670262231426\n",
      "-74.65670262232368\n",
      "-74.65670262232968\n",
      "-74.65670262233351\n",
      "-74.65670262233589\n",
      "-74.65670262233738\n",
      "-74.6567026223383\n",
      "-74.65670262233897\n",
      "-74.65670262233925\n",
      "-74.6567026223396\n",
      "-74.65670262233967\n",
      "-74.65670262233976\n",
      "-74.65670262233982\n",
      "-74.65670262233981\n",
      "-74.65670262233996\n",
      "-74.65670262233992\n",
      "-74.65670262233992\n",
      "-74.65670262233992\n",
      "-74.6567026223399\n",
      "-74.65670262233999\n"
     ]
    }
   ],
   "source": [
    "for i in range(50):\n",
    "    v = np.einsum('mrns,sr->mn',G,D)\n",
    "\n",
    "    F = H + v\n",
    "    tf = X.dot(F).dot(X) #X.dot(F.dot(X))\n",
    "    e,Ct = np.linalg.eigh(tf)\n",
    "    C = X.dot(Ct)#X.dot(Ct)\n",
    "    Cocc = C[:, :nocc]\n",
    "    D = np.matmul(Cocc, Cocc.T)#Cocc.dot(Cocc.T)\n",
    "    Q = H + 0.5*v\n",
    "    Ee = np.einsum('uv,vu->',Q,D)\n",
    "    E = Ee + Vnu\n",
    "    print(E)"
   ]
  },
  {
   "cell_type": "code",
   "execution_count": 283,
   "metadata": {},
   "outputs": [],
   "source": [
    "def transform_tei(gao,C):\n",
    "    return np.einsum('PQRS,Pp,Qq,Rr,Ss->pqrs', gao, C, C, C, C)"
   ]
  },
  {
   "cell_type": "code",
   "execution_count": 286,
   "metadata": {},
   "outputs": [],
   "source": [
    "mo_tei = transform_tei(G,C)"
   ]
  },
  {
   "cell_type": "code",
   "execution_count": 292,
   "metadata": {},
   "outputs": [],
   "source": [
    "d_mp2 = 0\n",
    "for I in range(nocc):\n",
    "    for J in range(nocc):\n",
    "        for A in range(nocc,len(e)):\n",
    "            for B in range(nocc,len(e)):\n",
    "                d_mp2 += (mo_tei[I][J][A][B]**2)/(e[I] + e[J] - e[A] - e[B])\n",
    "d_mp2 *= 0.25"
   ]
  },
  {
   "cell_type": "code",
   "execution_count": 294,
   "metadata": {},
   "outputs": [
    {
     "data": {
      "text/plain": [
       "2.2436913438284023e-14"
      ]
     },
     "execution_count": 294,
     "metadata": {},
     "output_type": "execute_result"
    }
   ],
   "source": [
    "d_mp2 - -0.02777889648274"
   ]
  },
  {
   "cell_type": "code",
   "execution_count": null,
   "metadata": {},
   "outputs": [],
   "source": []
  }
 ],
 "metadata": {
  "kernelspec": {
   "display_name": "Python (psi4)",
   "language": "python",
   "name": "p4env"
  },
  "language_info": {
   "codemirror_mode": {
    "name": "ipython",
    "version": 3
   },
   "file_extension": ".py",
   "mimetype": "text/x-python",
   "name": "python",
   "nbconvert_exporter": "python",
   "pygments_lexer": "ipython3",
   "version": "3.7.3"
  }
 },
 "nbformat": 4,
 "nbformat_minor": 2
}
